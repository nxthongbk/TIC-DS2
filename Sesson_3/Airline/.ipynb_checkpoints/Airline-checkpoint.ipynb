{
 "cells": [
  {
   "cell_type": "markdown",
   "metadata": {},
   "source": [
    "# 1. Cleaning"
   ]
  },
  {
   "cell_type": "markdown",
   "metadata": {},
   "source": [
    "Note: the existing \"2008.csv\" file in the directory could be the smaller version of the original.\n",
    "Consider downloading full-size file from http://stat-computing.org/dataexpo/2009/2008.csv.bz2"
   ]
  },
  {
   "cell_type": "code",
   "execution_count": 1,
   "metadata": {
    "ExecuteTime": {
     "end_time": "2018-08-23T09:02:45.047279Z",
     "start_time": "2018-08-23T09:02:16.236087Z"
    }
   },
   "outputs": [],
   "source": [
    "# import neccessary libraries\n",
    "import numpy as np\n",
    "import pandas as pd\n",
    "import seaborn as sns\n",
    "import matplotlib.pyplot as plt\n",
    "\n",
    "# show plot intermediately under the calling cell\n",
    "%matplotlib inline\n",
    "\n",
    "# disable some warnings\n",
    "import warnings\n",
    "warnings.simplefilter(action = \"ignore\")\n",
    "\n",
    "# set to unlimited column display:\n",
    "pd.set_option('display.max_columns', None)\n",
    "\n",
    "# import database\n",
    "df = pd.read_csv('2008.csv')"
   ]
  },
  {
   "cell_type": "markdown",
   "metadata": {},
   "source": [
    "<center>Table: (sample) Dataframe including column dtype</center>"
   ]
  },
  {
   "cell_type": "code",
   "execution_count": 2,
   "metadata": {
    "hide_input": true,
    "scrolled": false
   },
   "outputs": [
    {
     "data": {
      "text/html": [
       "<div>\n",
       "<style scoped>\n",
       "    .dataframe tbody tr th:only-of-type {\n",
       "        vertical-align: middle;\n",
       "    }\n",
       "\n",
       "    .dataframe tbody tr th {\n",
       "        vertical-align: top;\n",
       "    }\n",
       "\n",
       "    .dataframe thead th {\n",
       "        text-align: right;\n",
       "    }\n",
       "</style>\n",
       "<table border=\"1\" class=\"dataframe\">\n",
       "  <thead>\n",
       "    <tr style=\"text-align: right;\">\n",
       "      <th></th>\n",
       "      <th>Year</th>\n",
       "      <th>Month</th>\n",
       "      <th>DayofMonth</th>\n",
       "      <th>DayOfWeek</th>\n",
       "      <th>DepTime</th>\n",
       "      <th>CRSDepTime</th>\n",
       "      <th>ArrTime</th>\n",
       "      <th>CRSArrTime</th>\n",
       "      <th>UniqueCarrier</th>\n",
       "      <th>FlightNum</th>\n",
       "      <th>TailNum</th>\n",
       "      <th>ActualElapsedTime</th>\n",
       "      <th>CRSElapsedTime</th>\n",
       "      <th>AirTime</th>\n",
       "      <th>ArrDelay</th>\n",
       "      <th>DepDelay</th>\n",
       "      <th>Origin</th>\n",
       "      <th>Dest</th>\n",
       "      <th>Distance</th>\n",
       "      <th>TaxiIn</th>\n",
       "      <th>TaxiOut</th>\n",
       "      <th>Cancelled</th>\n",
       "      <th>CancellationCode</th>\n",
       "      <th>Diverted</th>\n",
       "      <th>CarrierDelay</th>\n",
       "      <th>WeatherDelay</th>\n",
       "      <th>NASDelay</th>\n",
       "      <th>SecurityDelay</th>\n",
       "      <th>LateAircraftDelay</th>\n",
       "    </tr>\n",
       "  </thead>\n",
       "  <tbody>\n",
       "    <tr>\n",
       "      <th>0</th>\n",
       "      <td>2008</td>\n",
       "      <td>3</td>\n",
       "      <td>29</td>\n",
       "      <td>6</td>\n",
       "      <td>1118</td>\n",
       "      <td>1100</td>\n",
       "      <td>1133</td>\n",
       "      <td>1116</td>\n",
       "      <td>EV</td>\n",
       "      <td>4654</td>\n",
       "      <td>N981EV</td>\n",
       "      <td>75</td>\n",
       "      <td>76</td>\n",
       "      <td>52</td>\n",
       "      <td>17</td>\n",
       "      <td>18</td>\n",
       "      <td>ATL</td>\n",
       "      <td>MOB</td>\n",
       "      <td>302</td>\n",
       "      <td>2</td>\n",
       "      <td>21</td>\n",
       "      <td>0</td>\n",
       "      <td>NaN</td>\n",
       "      <td>0</td>\n",
       "      <td>17</td>\n",
       "      <td>0</td>\n",
       "      <td>0</td>\n",
       "      <td>0</td>\n",
       "      <td>0</td>\n",
       "    </tr>\n",
       "    <tr>\n",
       "      <th>1</th>\n",
       "      <td>2008</td>\n",
       "      <td>6</td>\n",
       "      <td>27</td>\n",
       "      <td>5</td>\n",
       "      <td>1358</td>\n",
       "      <td>1405</td>\n",
       "      <td>1953</td>\n",
       "      <td>2000</td>\n",
       "      <td>CO</td>\n",
       "      <td>1848</td>\n",
       "      <td>N39343</td>\n",
       "      <td>235</td>\n",
       "      <td>235</td>\n",
       "      <td>216</td>\n",
       "      <td>-7</td>\n",
       "      <td>-7</td>\n",
       "      <td>SJC</td>\n",
       "      <td>IAH</td>\n",
       "      <td>1608</td>\n",
       "      <td>5</td>\n",
       "      <td>14</td>\n",
       "      <td>0</td>\n",
       "      <td>NaN</td>\n",
       "      <td>0</td>\n",
       "      <td>NaN</td>\n",
       "      <td>NaN</td>\n",
       "      <td>NaN</td>\n",
       "      <td>NaN</td>\n",
       "      <td>NaN</td>\n",
       "    </tr>\n",
       "    <tr>\n",
       "      <th>dtypes</th>\n",
       "      <td>int64</td>\n",
       "      <td>int64</td>\n",
       "      <td>int64</td>\n",
       "      <td>int64</td>\n",
       "      <td>float64</td>\n",
       "      <td>int64</td>\n",
       "      <td>float64</td>\n",
       "      <td>int64</td>\n",
       "      <td>object</td>\n",
       "      <td>int64</td>\n",
       "      <td>object</td>\n",
       "      <td>float64</td>\n",
       "      <td>float64</td>\n",
       "      <td>float64</td>\n",
       "      <td>float64</td>\n",
       "      <td>float64</td>\n",
       "      <td>object</td>\n",
       "      <td>object</td>\n",
       "      <td>int64</td>\n",
       "      <td>float64</td>\n",
       "      <td>float64</td>\n",
       "      <td>int64</td>\n",
       "      <td>object</td>\n",
       "      <td>int64</td>\n",
       "      <td>float64</td>\n",
       "      <td>float64</td>\n",
       "      <td>float64</td>\n",
       "      <td>float64</td>\n",
       "      <td>float64</td>\n",
       "    </tr>\n",
       "  </tbody>\n",
       "</table>\n",
       "</div>"
      ],
      "text/plain": [
       "         Year  Month DayofMonth DayOfWeek  DepTime CRSDepTime  ArrTime  \\\n",
       "0        2008      3         29         6     1118       1100     1133   \n",
       "1        2008      6         27         5     1358       1405     1953   \n",
       "dtypes  int64  int64      int64     int64  float64      int64  float64   \n",
       "\n",
       "       CRSArrTime UniqueCarrier FlightNum TailNum ActualElapsedTime  \\\n",
       "0            1116            EV      4654  N981EV                75   \n",
       "1            2000            CO      1848  N39343               235   \n",
       "dtypes      int64        object     int64  object           float64   \n",
       "\n",
       "       CRSElapsedTime  AirTime ArrDelay DepDelay  Origin    Dest Distance  \\\n",
       "0                  76       52       17       18     ATL     MOB      302   \n",
       "1                 235      216       -7       -7     SJC     IAH     1608   \n",
       "dtypes        float64  float64  float64  float64  object  object    int64   \n",
       "\n",
       "         TaxiIn  TaxiOut Cancelled CancellationCode Diverted CarrierDelay  \\\n",
       "0             2       21         0              NaN        0           17   \n",
       "1             5       14         0              NaN        0          NaN   \n",
       "dtypes  float64  float64     int64           object    int64      float64   \n",
       "\n",
       "       WeatherDelay NASDelay SecurityDelay LateAircraftDelay  \n",
       "0                 0        0             0                 0  \n",
       "1               NaN      NaN           NaN               NaN  \n",
       "dtypes      float64  float64       float64           float64  "
      ]
     },
     "execution_count": 2,
     "metadata": {},
     "output_type": "execute_result"
    }
   ],
   "source": [
    "dtypes = pd.Series(df.dtypes,name='dtypes')\n",
    "df.head(2).append(dtypes)"
   ]
  },
  {
   "cell_type": "markdown",
   "metadata": {},
   "source": [
    "## 1.1. Descriptive Statistics"
   ]
  },
  {
   "cell_type": "markdown",
   "metadata": {
    "hide_input": false
   },
   "source": [
    "<center>Figure: Correlation Matrix of some columns</center>"
   ]
  },
  {
   "cell_type": "code",
   "execution_count": 3,
   "metadata": {},
   "outputs": [
    {
     "data": {
      "image/png": "[encoded data removed]",
      "text/plain": [
       "<Figure size 720x576 with 2 Axes>"
      ]
     },
     "metadata": {
      "needs_background": "light"
     },
     "output_type": "display_data"
    }
   ],
   "source": [
    "def plot_corr_matr(df, figsize=(10, 8)):\n",
    "    \"\"\"\n",
    "    Plot Correlation matrix using Seaborns heatmap\n",
    "\n",
    "    Parameters\n",
    "    ----------\n",
    "    df: pandas.DataFrame\n",
    "\n",
    "    figsize: tuple\n",
    "        size of the whole plot\n",
    "    \"\"\"\n",
    "    plt.figure(figsize=figsize)\n",
    "    corr = df.corr().round(2)\n",
    "    # mask = np.zeros_like(corr)\n",
    "    # mask[np.triu_indices_from(mask)] = True\n",
    "    sns.heatmap(\n",
    "        corr,\n",
    "        cmap=\"seismic\",\n",
    "        square=True,\n",
    "        xticklabels=corr.columns.values,\n",
    "        yticklabels=corr.columns.values,\n",
    "        center=0,\n",
    "        annot=True)\n",
    "    plt.xticks(rotation=45)\n",
    "    plt.show()\n",
    "    \n",
    "plot_corr_matr(df.loc[:,'DepTime':'Distance'])\n",
    "# plot_corr_matr(df)"
   ]
  },
  {
   "cell_type": "markdown",
   "metadata": {},
   "source": [
    "//////// _From the graph above, which features, in your opinions, should be removed, which should be kept, why?_"
   ]
  },
  {
   "cell_type": "markdown",
   "metadata": {},
   "source": [
    "<center>Table: Describe database</center>"
   ]
  },
  {
   "cell_type": "code",
   "execution_count": 4,
   "metadata": {
    "hide_input": false,
    "scrolled": false
   },
   "outputs": [
    {
     "data": {
      "text/html": [
       "<div>\n",
       "<style scoped>\n",
       "    .dataframe tbody tr th:only-of-type {\n",
       "        vertical-align: middle;\n",
       "    }\n",
       "\n",
       "    .dataframe tbody tr th {\n",
       "        vertical-align: top;\n",
       "    }\n",
       "\n",
       "    .dataframe thead th {\n",
       "        text-align: right;\n",
       "    }\n",
       "</style>\n",
       "<table border=\"1\" class=\"dataframe\">\n",
       "  <thead>\n",
       "    <tr style=\"text-align: right;\">\n",
       "      <th></th>\n",
       "      <th>count</th>\n",
       "      <th>unique</th>\n",
       "      <th>top</th>\n",
       "      <th>freq</th>\n",
       "      <th>mean</th>\n",
       "      <th>std</th>\n",
       "      <th>min</th>\n",
       "      <th>25%</th>\n",
       "      <th>50%</th>\n",
       "      <th>75%</th>\n",
       "      <th>max</th>\n",
       "    </tr>\n",
       "  </thead>\n",
       "  <tbody>\n",
       "    <tr>\n",
       "      <th>DepTime</th>\n",
       "      <td>6.87348e+06</td>\n",
       "      <td>NaN</td>\n",
       "      <td>NaN</td>\n",
       "      <td>NaN</td>\n",
       "      <td>1333.83</td>\n",
       "      <td>478.069</td>\n",
       "      <td>1</td>\n",
       "      <td>928</td>\n",
       "      <td>1325</td>\n",
       "      <td>1728</td>\n",
       "      <td>2400</td>\n",
       "    </tr>\n",
       "    <tr>\n",
       "      <th>ArrTime</th>\n",
       "      <td>6.85808e+06</td>\n",
       "      <td>NaN</td>\n",
       "      <td>NaN</td>\n",
       "      <td>NaN</td>\n",
       "      <td>1481.26</td>\n",
       "      <td>505.225</td>\n",
       "      <td>1</td>\n",
       "      <td>1107</td>\n",
       "      <td>1512</td>\n",
       "      <td>1909</td>\n",
       "      <td>2400</td>\n",
       "    </tr>\n",
       "    <tr>\n",
       "      <th>UniqueCarrier</th>\n",
       "      <td>7009728</td>\n",
       "      <td>20</td>\n",
       "      <td>WN</td>\n",
       "      <td>1201754</td>\n",
       "      <td>NaN</td>\n",
       "      <td>NaN</td>\n",
       "      <td>NaN</td>\n",
       "      <td>NaN</td>\n",
       "      <td>NaN</td>\n",
       "      <td>NaN</td>\n",
       "      <td>NaN</td>\n",
       "    </tr>\n",
       "    <tr>\n",
       "      <th>FlightNum</th>\n",
       "      <td>7.00973e+06</td>\n",
       "      <td>NaN</td>\n",
       "      <td>NaN</td>\n",
       "      <td>NaN</td>\n",
       "      <td>2224.2</td>\n",
       "      <td>1961.72</td>\n",
       "      <td>1</td>\n",
       "      <td>622</td>\n",
       "      <td>1571</td>\n",
       "      <td>3518</td>\n",
       "      <td>9743</td>\n",
       "    </tr>\n",
       "    <tr>\n",
       "      <th>TailNum</th>\n",
       "      <td>6926363</td>\n",
       "      <td>5373</td>\n",
       "      <td>N476HA</td>\n",
       "      <td>4701</td>\n",
       "      <td>NaN</td>\n",
       "      <td>NaN</td>\n",
       "      <td>NaN</td>\n",
       "      <td>NaN</td>\n",
       "      <td>NaN</td>\n",
       "      <td>NaN</td>\n",
       "      <td>NaN</td>\n",
       "    </tr>\n",
       "    <tr>\n",
       "      <th>ArrDelay</th>\n",
       "      <td>6.85503e+06</td>\n",
       "      <td>NaN</td>\n",
       "      <td>NaN</td>\n",
       "      <td>NaN</td>\n",
       "      <td>8.16845</td>\n",
       "      <td>38.5019</td>\n",
       "      <td>-519</td>\n",
       "      <td>-10</td>\n",
       "      <td>-2</td>\n",
       "      <td>12</td>\n",
       "      <td>2461</td>\n",
       "    </tr>\n",
       "    <tr>\n",
       "      <th>Origin</th>\n",
       "      <td>7009728</td>\n",
       "      <td>303</td>\n",
       "      <td>ATL</td>\n",
       "      <td>414513</td>\n",
       "      <td>NaN</td>\n",
       "      <td>NaN</td>\n",
       "      <td>NaN</td>\n",
       "      <td>NaN</td>\n",
       "      <td>NaN</td>\n",
       "      <td>NaN</td>\n",
       "      <td>NaN</td>\n",
       "    </tr>\n",
       "    <tr>\n",
       "      <th>Dest</th>\n",
       "      <td>7009728</td>\n",
       "      <td>304</td>\n",
       "      <td>ATL</td>\n",
       "      <td>414521</td>\n",
       "      <td>NaN</td>\n",
       "      <td>NaN</td>\n",
       "      <td>NaN</td>\n",
       "      <td>NaN</td>\n",
       "      <td>NaN</td>\n",
       "      <td>NaN</td>\n",
       "      <td>NaN</td>\n",
       "    </tr>\n",
       "    <tr>\n",
       "      <th>Distance</th>\n",
       "      <td>7.00973e+06</td>\n",
       "      <td>NaN</td>\n",
       "      <td>NaN</td>\n",
       "      <td>NaN</td>\n",
       "      <td>726.387</td>\n",
       "      <td>562.102</td>\n",
       "      <td>11</td>\n",
       "      <td>325</td>\n",
       "      <td>581</td>\n",
       "      <td>954</td>\n",
       "      <td>4962</td>\n",
       "    </tr>\n",
       "  </tbody>\n",
       "</table>\n",
       "</div>"
      ],
      "text/plain": [
       "                     count unique     top     freq     mean      std  min  \\\n",
       "DepTime        6.87348e+06    NaN     NaN      NaN  1333.83  478.069    1   \n",
       "ArrTime        6.85808e+06    NaN     NaN      NaN  1481.26  505.225    1   \n",
       "UniqueCarrier      7009728     20      WN  1201754      NaN      NaN  NaN   \n",
       "FlightNum      7.00973e+06    NaN     NaN      NaN   2224.2  1961.72    1   \n",
       "TailNum            6926363   5373  N476HA     4701      NaN      NaN  NaN   \n",
       "ArrDelay       6.85503e+06    NaN     NaN      NaN  8.16845  38.5019 -519   \n",
       "Origin             7009728    303     ATL   414513      NaN      NaN  NaN   \n",
       "Dest               7009728    304     ATL   414521      NaN      NaN  NaN   \n",
       "Distance       7.00973e+06    NaN     NaN      NaN  726.387  562.102   11   \n",
       "\n",
       "                25%   50%   75%   max  \n",
       "DepTime         928  1325  1728  2400  \n",
       "ArrTime        1107  1512  1909  2400  \n",
       "UniqueCarrier   NaN   NaN   NaN   NaN  \n",
       "FlightNum       622  1571  3518  9743  \n",
       "TailNum         NaN   NaN   NaN   NaN  \n",
       "ArrDelay        -10    -2    12  2461  \n",
       "Origin          NaN   NaN   NaN   NaN  \n",
       "Dest            NaN   NaN   NaN   NaN  \n",
       "Distance        325   581   954  4962  "
      ]
     },
     "execution_count": 4,
     "metadata": {},
     "output_type": "execute_result"
    }
   ],
   "source": [
    "df.describe(include='all').T"
   ]
  },
  {
   "cell_type": "markdown",
   "metadata": {},
   "source": [
    "## 1.2. NaN Cleaning"
   ]
  },
  {
   "cell_type": "markdown",
   "metadata": {},
   "source": [
    "<center>Table: Recheck describe columns with NaN values</center>"
   ]
  },
  {
   "cell_type": "code",
   "execution_count": null,
   "metadata": {
    "ExecuteTime": {
     "end_time": "2018-08-23T09:03:17.952641Z",
     "start_time": "2018-08-23T09:02:48.558977Z"
    },
    "hide_input": false,
    "scrolled": false
   },
   "outputs": [],
   "source": [
    "from IPython.display import display\n",
    "import pandas as pd\n",
    "def desc_nan(df):\n",
    "    \"\"\"\n",
    "    Show a table that describe about all columns of @df that contain NaN.\n",
    "    \"\"\"\n",
    "    row, col = df.shape\n",
    "    nas = row - df.describe(include='all').T['count']\n",
    "    nas = nas[nas > 0]\n",
    "    ps = nas / row * 100\n",
    "    ms = df.mode().iloc[0]\n",
    "    nadf = pd.DataFrame(data={\n",
    "        'Na Count': nas,\n",
    "        'Na Percentage': ps,\n",
    "        'mode': ms\n",
    "    }).loc[nas.index]\n",
    "    dnadf = df.describe().T.reindex(nadf.index)\n",
    "    nadf = pd.concat([nadf, dnadf.iloc[:, 1:]], axis=1)\n",
    "    display(nadf)\n",
    "\n",
    "desc_nan(df)"
   ]
  },
  {
   "cell_type": "markdown",
   "metadata": {},
   "source": [
    "<center>Figure: Distribution plot of all numeric columns</center>"
   ]
  },
  {
   "cell_type": "code",
   "execution_count": null,
   "metadata": {},
   "outputs": [],
   "source": [
    "def plot_ft_dist(df, fig_height=4, no_of_col=2,verbose=True):\n",
    "    \"\"\"\n",
    "    Plot distribution of all numeric columns in df\n",
    "\n",
    "    Parameters\n",
    "    ----------\n",
    "    df: pandas.DataFrame\n",
    "\n",
    "    fig_height: int\n",
    "\n",
    "    no_of_col: int\n",
    "    \"\"\"\n",
    "    df = df.copy()\n",
    "    # prepare df\n",
    "    cat_cols = list(df.dtypes[df.dtypes == 'object'].index)\n",
    "    if verbose:\n",
    "        print(\"Ignored categorical columns: \", cat_cols)\n",
    "        print(\"\")\n",
    "    df_hasnan = df.isna().any().any()\n",
    "    if df_hasnan:\n",
    "        nan_cols = list(df.loc[:,df.isna().any()].columns)\n",
    "        df.dropna(inplace=True, axis=1)\n",
    "        if verbose:\n",
    "            print(\"dropped NaN cols:\", str(nan_cols))\n",
    "            print(\"\")\n",
    "    try:    \n",
    "        desc = df.describe().T\n",
    "        std0 = list(desc.loc[desc['std']==0].index)\n",
    "        if verbose:\n",
    "            print(\"dropped std=0 cols:\", str(std0))\n",
    "            print(\"\")\n",
    "        for col in std0:\n",
    "            del df[col]\n",
    "    except KeyError:\n",
    "        pass\n",
    "    \n",
    "    idx = df.dtypes[df.dtypes != 'object'].index\n",
    "    # prepare frame\n",
    "    f, axes = plt.subplots(\n",
    "        int(np.ceil(len(idx) / no_of_col)),\n",
    "        no_of_col,\n",
    "        figsize=(5 * no_of_col, np.ceil(len(idx) / no_of_col) * fig_height))\n",
    "    sns.set(style=\"white\", palette=\"muted\", color_codes=True)\n",
    "    n = 0\n",
    "    for i in idx:\n",
    "        sns.distplot(\n",
    "            df[i],\n",
    "            color='b',\n",
    "            hist=True,\n",
    "            kde_kws={\"shade\": True},\n",
    "            ax=axes[n // no_of_col, n % no_of_col])\n",
    "        n += 1\n",
    "    plt.show()\n",
    "\n",
    "plot_ft_dist(df)"
   ]
  },
  {
   "cell_type": "markdown",
   "metadata": {},
   "source": [
    "////// _Run codes above, describe what you see and start clean data / remove unimportant columns._"
   ]
  },
  {
   "cell_type": "markdown",
   "metadata": {},
   "source": [
    "<center>Table: (sample) Database after cleaning</center>"
   ]
  },
  {
   "cell_type": "code",
   "execution_count": 10,
   "metadata": {
    "hide_input": false,
    "scrolled": true
   },
   "outputs": [
    {
     "data": {
      "text/html": [
       "<div>\n",
       "<style scoped>\n",
       "    .dataframe tbody tr th:only-of-type {\n",
       "        vertical-align: middle;\n",
       "    }\n",
       "\n",
       "    .dataframe tbody tr th {\n",
       "        vertical-align: top;\n",
       "    }\n",
       "\n",
       "    .dataframe thead th {\n",
       "        text-align: right;\n",
       "    }\n",
       "</style>\n",
       "<table border=\"1\" class=\"dataframe\">\n",
       "  <thead>\n",
       "    <tr style=\"text-align: right;\">\n",
       "      <th></th>\n",
       "      <th>DepTime</th>\n",
       "      <th>ArrTime</th>\n",
       "      <th>UniqueCarrier</th>\n",
       "      <th>FlightNum</th>\n",
       "      <th>TailNum</th>\n",
       "      <th>ArrDelay</th>\n",
       "      <th>Origin</th>\n",
       "      <th>Dest</th>\n",
       "      <th>Distance</th>\n",
       "    </tr>\n",
       "  </thead>\n",
       "  <tbody>\n",
       "    <tr>\n",
       "      <th>0</th>\n",
       "      <td>2003.0</td>\n",
       "      <td>2211.0</td>\n",
       "      <td>WN</td>\n",
       "      <td>335</td>\n",
       "      <td>N712SW</td>\n",
       "      <td>-14.0</td>\n",
       "      <td>IAD</td>\n",
       "      <td>TPA</td>\n",
       "      <td>810</td>\n",
       "    </tr>\n",
       "    <tr>\n",
       "      <th>1</th>\n",
       "      <td>754.0</td>\n",
       "      <td>1002.0</td>\n",
       "      <td>WN</td>\n",
       "      <td>3231</td>\n",
       "      <td>N772SW</td>\n",
       "      <td>2.0</td>\n",
       "      <td>IAD</td>\n",
       "      <td>TPA</td>\n",
       "      <td>810</td>\n",
       "    </tr>\n",
       "  </tbody>\n",
       "</table>\n",
       "</div>"
      ],
      "text/plain": [
       "   DepTime  ArrTime UniqueCarrier  FlightNum TailNum  ArrDelay Origin Dest  \\\n",
       "0   2003.0   2211.0            WN        335  N712SW     -14.0    IAD  TPA   \n",
       "1    754.0   1002.0            WN       3231  N772SW       2.0    IAD  TPA   \n",
       "\n",
       "   Distance  \n",
       "0       810  \n",
       "1       810  "
      ]
     },
     "execution_count": 10,
     "metadata": {},
     "output_type": "execute_result"
    }
   ],
   "source": [
    "df.head(2)"
   ]
  },
  {
   "cell_type": "markdown",
   "metadata": {},
   "source": [
    "## 1.3. Feature Engineering"
   ]
  },
  {
   "cell_type": "markdown",
   "metadata": {},
   "source": [
    "/////////// Give some insights, split train-test dataset"
   ]
  },
  {
   "cell_type": "markdown",
   "metadata": {},
   "source": [
    "### 1.3.1 Data Transformation"
   ]
  },
  {
   "cell_type": "markdown",
   "metadata": {},
   "source": [
    "__DepTime, ArrTime__ are time values which if being stored in 10-based (decimal), their true values will be distorted (hours:minutes is not continuous on 10-based).\n",
    "#=> convert to minute integer"
   ]
  },
  {
   "cell_type": "code",
   "execution_count": 7,
   "metadata": {},
   "outputs": [],
   "source": [
    "# convert column to min:\n",
    "def to_min(n):\n",
    "    n = str(int(n))\n",
    "    if len(n)<=2:\n",
    "        return int(n)\n",
    "    else:\n",
    "        return int(n[:-2])*60+int(n[2:])\n",
    "df.DepTime=df.DepTime.apply(to_min)\n",
    "df.ArrTime=df.ArrTime.apply(to_min)"
   ]
  },
  {
   "cell_type": "markdown",
   "metadata": {},
   "source": [
    "Convert all float dtype columns to int64 dtype"
   ]
  },
  {
   "cell_type": "code",
   "execution_count": 8,
   "metadata": {},
   "outputs": [],
   "source": [
    "for col in df.columns:\n",
    "    if df[col].dtype == np.float:\n",
    "        df[col] = df[col].astype(np.int64)"
   ]
  },
  {
   "cell_type": "markdown",
   "metadata": {},
   "source": [
    "<center>Table: (sample) Dataframe after dtype convertion</center>"
   ]
  },
  {
   "cell_type": "code",
   "execution_count": null,
   "metadata": {
    "hide_input": false,
    "scrolled": true
   },
   "outputs": [],
   "source": [
    "dtypes = pd.Series(df.dtypes,name='dtypes')\n",
    "df.head(2).append(dtypes)"
   ]
  },
  {
   "cell_type": "markdown",
   "metadata": {},
   "source": [
    "### 1.3.2. One-hot-encoding"
   ]
  },
  {
   "cell_type": "markdown",
   "metadata": {},
   "source": [
    "In order to pick which feature to use One-hot-encoding, we see how many unique data in each category data, then use boxplot to check the variation of ArrDelay by those features.\n",
    "<br><br>\n",
    "<center>Table: Unique value from each categorial feature</center>"
   ]
  },
  {
   "cell_type": "code",
   "execution_count": 14,
   "metadata": {
    "hide_input": false
   },
   "outputs": [
    {
     "data": {
      "text/html": [
       "<div>\n",
       "<style scoped>\n",
       "    .dataframe tbody tr th:only-of-type {\n",
       "        vertical-align: middle;\n",
       "    }\n",
       "\n",
       "    .dataframe tbody tr th {\n",
       "        vertical-align: top;\n",
       "    }\n",
       "\n",
       "    .dataframe thead th {\n",
       "        text-align: right;\n",
       "    }\n",
       "</style>\n",
       "<table border=\"1\" class=\"dataframe\">\n",
       "  <thead>\n",
       "    <tr style=\"text-align: right;\">\n",
       "      <th></th>\n",
       "      <th>UniqueCarrier</th>\n",
       "      <th>TailNum</th>\n",
       "      <th>Origin</th>\n",
       "      <th>Dest</th>\n",
       "    </tr>\n",
       "  </thead>\n",
       "  <tbody>\n",
       "    <tr>\n",
       "      <th>unique</th>\n",
       "      <td>20</td>\n",
       "      <td>5362</td>\n",
       "      <td>303</td>\n",
       "      <td>302</td>\n",
       "    </tr>\n",
       "  </tbody>\n",
       "</table>\n",
       "</div>"
      ],
      "text/plain": [
       "       UniqueCarrier TailNum Origin Dest\n",
       "unique            20    5362    303  302"
      ]
     },
     "execution_count": 14,
     "metadata": {},
     "output_type": "execute_result"
    }
   ],
   "source": [
    "pd.DataFrame(df.describe(include=\"O\").loc['unique']).T"
   ]
  },
  {
   "cell_type": "markdown",
   "metadata": {},
   "source": [
    "/////// _start your code below to one hot encode or label encoding categorical features_"
   ]
  },
  {
   "cell_type": "markdown",
   "metadata": {},
   "source": [
    "## 2.2. Normalize data"
   ]
  },
  {
   "cell_type": "markdown",
   "metadata": {},
   "source": [
    "/////// _normalize / scale your data to range [0,1]"
   ]
  },
  {
   "cell_type": "markdown",
   "metadata": {},
   "source": [
    "Because of feature scaling, new table of normalized data (in range [0,1]) is needed."
   ]
  },
  {
   "cell_type": "markdown",
   "metadata": {},
   "source": [
    "<center>Table: (sample) Predictor X (without PCA)"
   ]
  },
  {
   "cell_type": "code",
   "execution_count": 12,
   "metadata": {
    "hide_input": true,
    "scrolled": false
   },
   "outputs": [
    {
     "data": {
      "text/html": [
       "<div>\n",
       "<style scoped>\n",
       "    .dataframe tbody tr th:only-of-type {\n",
       "        vertical-align: middle;\n",
       "    }\n",
       "\n",
       "    .dataframe tbody tr th {\n",
       "        vertical-align: top;\n",
       "    }\n",
       "\n",
       "    .dataframe thead th {\n",
       "        text-align: right;\n",
       "    }\n",
       "</style>\n",
       "<table border=\"1\" class=\"dataframe\">\n",
       "  <thead>\n",
       "    <tr style=\"text-align: right;\">\n",
       "      <th></th>\n",
       "      <th>DepTime</th>\n",
       "      <th>ArrTime</th>\n",
       "      <th>FlightNum</th>\n",
       "      <th>ArrDelay</th>\n",
       "      <th>Distance</th>\n",
       "      <th>9E</th>\n",
       "      <th>AA</th>\n",
       "      <th>AQ</th>\n",
       "      <th>AS</th>\n",
       "      <th>B6</th>\n",
       "      <th>CO</th>\n",
       "      <th>DL</th>\n",
       "      <th>EV</th>\n",
       "      <th>F9</th>\n",
       "      <th>FL</th>\n",
       "      <th>HA</th>\n",
       "      <th>MQ</th>\n",
       "      <th>NW</th>\n",
       "      <th>OH</th>\n",
       "      <th>OO</th>\n",
       "      <th>UA</th>\n",
       "      <th>US</th>\n",
       "      <th>WN</th>\n",
       "      <th>XE</th>\n",
       "      <th>YV</th>\n",
       "    </tr>\n",
       "  </thead>\n",
       "  <tbody>\n",
       "    <tr>\n",
       "      <th>0</th>\n",
       "      <td>0.835302</td>\n",
       "      <td>0.924253</td>\n",
       "      <td>0.042667</td>\n",
       "      <td>0.495584</td>\n",
       "      <td>0.267851</td>\n",
       "      <td>0</td>\n",
       "      <td>0</td>\n",
       "      <td>0</td>\n",
       "      <td>0</td>\n",
       "      <td>0</td>\n",
       "      <td>0</td>\n",
       "      <td>0</td>\n",
       "      <td>0</td>\n",
       "      <td>0</td>\n",
       "      <td>0</td>\n",
       "      <td>0</td>\n",
       "      <td>0</td>\n",
       "      <td>0</td>\n",
       "      <td>0</td>\n",
       "      <td>0</td>\n",
       "      <td>0</td>\n",
       "      <td>0</td>\n",
       "      <td>1</td>\n",
       "      <td>0</td>\n",
       "      <td>0</td>\n",
       "    </tr>\n",
       "    <tr>\n",
       "      <th>1</th>\n",
       "      <td>0.293954</td>\n",
       "      <td>0.417651</td>\n",
       "      <td>0.412621</td>\n",
       "      <td>0.511286</td>\n",
       "      <td>0.267851</td>\n",
       "      <td>0</td>\n",
       "      <td>0</td>\n",
       "      <td>0</td>\n",
       "      <td>0</td>\n",
       "      <td>0</td>\n",
       "      <td>0</td>\n",
       "      <td>0</td>\n",
       "      <td>0</td>\n",
       "      <td>0</td>\n",
       "      <td>0</td>\n",
       "      <td>0</td>\n",
       "      <td>0</td>\n",
       "      <td>0</td>\n",
       "      <td>0</td>\n",
       "      <td>0</td>\n",
       "      <td>0</td>\n",
       "      <td>0</td>\n",
       "      <td>1</td>\n",
       "      <td>0</td>\n",
       "      <td>0</td>\n",
       "    </tr>\n",
       "  </tbody>\n",
       "</table>\n",
       "</div>"
      ],
      "text/plain": [
       "    DepTime   ArrTime  FlightNum  ArrDelay  Distance  9E  AA  AQ  AS  B6  CO  \\\n",
       "0  0.835302  0.924253   0.042667  0.495584  0.267851   0   0   0   0   0   0   \n",
       "1  0.293954  0.417651   0.412621  0.511286  0.267851   0   0   0   0   0   0   \n",
       "\n",
       "   DL  EV  F9  FL  HA  MQ  NW  OH  OO  UA  US  WN  XE  YV  \n",
       "0   0   0   0   0   0   0   0   0   0   0   0   1   0   0  \n",
       "1   0   0   0   0   0   0   0   0   0   0   0   1   0   0  "
      ]
     },
     "execution_count": 12,
     "metadata": {},
     "output_type": "execute_result"
    }
   ],
   "source": [
    "X[:2]"
   ]
  },
  {
   "cell_type": "markdown",
   "metadata": {},
   "source": [
    "## 2.3. PCA"
   ]
  },
  {
   "cell_type": "markdown",
   "metadata": {},
   "source": [
    "<center>Figure: Explaination ratio though dimensions using PCA and Cumulative explained variance table in details</center>"
   ]
  },
  {
   "cell_type": "code",
   "execution_count": 13,
   "metadata": {
    "scrolled": false
   },
   "outputs": [
    {
     "data": {
      "image/png": "[encoded data removed]",
      "text/plain": [
       "<Figure size 432x288 with 1 Axes>"
      ]
     },
     "metadata": {},
     "output_type": "display_data"
    },
    {
     "data": {
      "text/html": [
       "<div>\n",
       "<style scoped>\n",
       "    .dataframe tbody tr th:only-of-type {\n",
       "        vertical-align: middle;\n",
       "    }\n",
       "\n",
       "    .dataframe tbody tr th {\n",
       "        vertical-align: top;\n",
       "    }\n",
       "\n",
       "    .dataframe thead th {\n",
       "        text-align: right;\n",
       "    }\n",
       "</style>\n",
       "<table border=\"1\" class=\"dataframe\">\n",
       "  <thead>\n",
       "    <tr style=\"text-align: right;\">\n",
       "      <th></th>\n",
       "      <th>dim 1</th>\n",
       "      <th>dim 2</th>\n",
       "      <th>dim 3</th>\n",
       "      <th>dim 4</th>\n",
       "      <th>dim 5</th>\n",
       "      <th>dim 6</th>\n",
       "      <th>dim 7</th>\n",
       "      <th>dim 8</th>\n",
       "      <th>dim 9</th>\n",
       "      <th>dim 10</th>\n",
       "      <th>dim 11</th>\n",
       "      <th>dim 12</th>\n",
       "      <th>dim 13</th>\n",
       "      <th>dim 14</th>\n",
       "      <th>dim 15</th>\n",
       "      <th>dim 16</th>\n",
       "      <th>dim 17</th>\n",
       "      <th>dim 18</th>\n",
       "      <th>dim 19</th>\n",
       "      <th>dim 20</th>\n",
       "      <th>dim 21</th>\n",
       "      <th>dim 22</th>\n",
       "      <th>dim 23</th>\n",
       "      <th>dim 24</th>\n",
       "      <th>dim 25</th>\n",
       "    </tr>\n",
       "  </thead>\n",
       "  <tbody>\n",
       "    <tr>\n",
       "      <th>0</th>\n",
       "      <td>0.141586</td>\n",
       "      <td>0.24966</td>\n",
       "      <td>0.322052</td>\n",
       "      <td>0.390733</td>\n",
       "      <td>0.456134</td>\n",
       "      <td>0.514682</td>\n",
       "      <td>0.572537</td>\n",
       "      <td>0.62423</td>\n",
       "      <td>0.672122</td>\n",
       "      <td>0.716696</td>\n",
       "      <td>0.757787</td>\n",
       "      <td>0.793926</td>\n",
       "      <td>0.828843</td>\n",
       "      <td>0.861699</td>\n",
       "      <td>0.889374</td>\n",
       "      <td>0.916564</td>\n",
       "      <td>0.938245</td>\n",
       "      <td>0.95907</td>\n",
       "      <td>0.972592</td>\n",
       "      <td>0.98354</td>\n",
       "      <td>0.99231</td>\n",
       "      <td>0.997823</td>\n",
       "      <td>0.998936</td>\n",
       "      <td>1.0</td>\n",
       "      <td>1.0</td>\n",
       "    </tr>\n",
       "  </tbody>\n",
       "</table>\n",
       "</div>"
      ],
      "text/plain": [
       "      dim 1    dim 2     dim 3     dim 4     dim 5     dim 6     dim 7  \\\n",
       "0  0.141586  0.24966  0.322052  0.390733  0.456134  0.514682  0.572537   \n",
       "\n",
       "     dim 8     dim 9    dim 10    dim 11    dim 12    dim 13    dim 14  \\\n",
       "0  0.62423  0.672122  0.716696  0.757787  0.793926  0.828843  0.861699   \n",
       "\n",
       "     dim 15    dim 16    dim 17   dim 18    dim 19   dim 20   dim 21  \\\n",
       "0  0.889374  0.916564  0.938245  0.95907  0.972592  0.98354  0.99231   \n",
       "\n",
       "     dim 22    dim 23  dim 24  dim 25  \n",
       "0  0.997823  0.998936     1.0     1.0  "
      ]
     },
     "metadata": {},
     "output_type": "display_data"
    }
   ],
   "source": [
    "def plot_PCA(df):\n",
    "    \"\"\"\n",
    "    Show the \"PCA ladder\" in order to pick the right\n",
    "\n",
    "    Parameters\n",
    "    ----------\n",
    "    df: pandas.DataFrame\n",
    "\n",
    "    fig_height: int\n",
    "\n",
    "    no_of_col: int\n",
    "    \"\"\"\n",
    "    from sklearn.decomposition import PCA\n",
    "\n",
    "    pca = PCA(n_components=len(df.columns))\n",
    "    pca.fit_transform(df)\n",
    "    # put data (predictor only) to pca and create pcadf\n",
    "    ratio = pca.explained_variance_ratio_\n",
    "\n",
    "    tot = sum(ratio)\n",
    "    var_exp = [(i / tot) for i in ratio]\n",
    "    cum_var_exp = np.cumsum(var_exp)\n",
    "\n",
    "    plt.bar(\n",
    "        range(0, len(df.columns)),\n",
    "        var_exp,\n",
    "        alpha=0.5,\n",
    "        align='center',\n",
    "        label='individual explained variance')\n",
    "    plt.step(\n",
    "        range(0, len(df.columns)),\n",
    "        cum_var_exp,\n",
    "        where='mid',\n",
    "        label='cumulative expalined variance')\n",
    "    plt.ylabel = 'Explained variance ratio'\n",
    "    plt.xlabel = 'Pricipal components'\n",
    "    plt.legend(loc='best')\n",
    "    plt.show()\n",
    "\n",
    "    # show table with more details\n",
    "    pdf = pd.DataFrame(\n",
    "        [cum_var_exp],\n",
    "        columns=[\"dim {}\".format(i) for i in range(1,\n",
    "                                                   len(df.columns) + 1)])\n",
    "    display(pdf)\n",
    "    \n",
    "    \n",
    "plot_PCA(X)"
   ]
  },
  {
   "cell_type": "markdown",
   "metadata": {},
   "source": [
    "//////////// the code below has \"n\" as dimensions to reduce to, decide that number so the total explation ratio > 0.95"
   ]
  },
  {
   "cell_type": "code",
   "execution_count": 14,
   "metadata": {},
   "outputs": [],
   "source": [
    "from sklearn.decomposition import PCA\n",
    "# create a PCA to reduce dimension to n\n",
    "n = # ?????\n",
    "pca = PCA(n_components=n)\n",
    "# put data (predictor only) to pca and create pcadf\n",
    "X = pd.DataFrame(pca.fit_transform(X))"
   ]
  },
  {
   "cell_type": "code",
   "execution_count": null,
   "metadata": {},
   "outputs": [],
   "source": [
    "# Save processed database to a csv file\n",
    "import os\n",
    "os.chdir(r'.\\working_database')\n",
    "\n",
    "x_tune.to_csv('x_tune.csv')\n",
    "pd.DataFrame(y_tune).to_csv('y_tune.csv')\n",
    "x_train.to_csv('x_train.csv')\n",
    "pd.DataFrame(y_train).to_csv('y_train.csv')\n",
    "x_test.to_csv('x_test.csv')\n",
    "pd.DataFrame(y_test).to_csv('y_test.csv')\n",
    "\n",
    "os.chdir('..')"
   ]
  },
  {
   "cell_type": "markdown",
   "metadata": {},
   "source": [
    "# 3. Classification Models"
   ]
  },
  {
   "cell_type": "code",
   "execution_count": null,
   "metadata": {},
   "outputs": [],
   "source": [
    "# import neccessary libraries\n",
    "import numpy as np\n",
    "import pandas as pd\n",
    "import seaborn as sns\n",
    "import matplotlib.pyplot as plt\n",
    "\n",
    "# show plot intermediately under the calling cell\n",
    "%matplotlib inline\n",
    "\n",
    "# disable some warnings\n",
    "import warnings\n",
    "warnings.simplefilter(action = \"ignore\")\n",
    "\n",
    "# set to unlimited column display:\n",
    "pd.set_option('display.max_columns', None)\n",
    "\n",
    "# Load processed database from a csv file\n",
    "import os\n",
    "os.chdir(r'.\\working_database')\n",
    "\n",
    "x_tune = pd.read_csv('x_tune.csv', index_col=0)\n",
    "y_tune = pd.read_csv('y_tune.csv', index_col=0)\n",
    "x_train = pd.read_csv('x_train.csv', index_col=0)\n",
    "y_train = pd.read_csv('y_train.csv', index_col=0)\n",
    "x_test = pd.read_csv('x_test.csv', index_col=0)\n",
    "y_test = pd.read_csv('y_test.csv', index_col=0)\n",
    "\n",
    "os.chdir('..')"
   ]
  },
  {
   "cell_type": "markdown",
   "metadata": {},
   "source": [
    "The following model will use default parameters and sample classification report"
   ]
  },
  {
   "cell_type": "markdown",
   "metadata": {},
   "source": [
    "## 3.1. Naive Bayes"
   ]
  },
  {
   "cell_type": "markdown",
   "metadata": {},
   "source": [
    "Initialize the model and fit the train database"
   ]
  },
  {
   "cell_type": "code",
   "execution_count": null,
   "metadata": {
    "scrolled": true
   },
   "outputs": [],
   "source": [
    "from sklearn.naive_bayes import GaussianNB\n",
    "nb = GaussianNB()\n",
    "nb.fit(x_train, y_train)"
   ]
  },
  {
   "cell_type": "code",
   "execution_count": 3,
   "metadata": {
    "scrolled": true
   },
   "outputs": [
    {
     "name": "stdout",
     "output_type": "stream",
     "text": [
      "Classification_report: \n",
      "              precision    recall  f1-score   support\n",
      "\n",
      "      False       0.87      0.96      0.91    217073\n",
      "       True       0.18      0.06      0.09     32927\n",
      "\n",
      "avg / total       0.78      0.84      0.80    250000\n",
      "\n"
     ]
    }
   ],
   "source": [
    "from sklearn.metrics import classification_report\n",
    "print('Classification_report: \\n', \n",
    "      classification_report(\n",
    "          y_true=y_test,\n",
    "          y_pred=nb.predict(x_test)))"
   ]
  },
  {
   "cell_type": "markdown",
   "metadata": {},
   "source": [
    "////// Search google for \"sklearn logistics regression\" / decision tree / svm and figure out how to work on below parts"
   ]
  },
  {
   "cell_type": "markdown",
   "metadata": {},
   "source": [
    "## 3.2. Logistics Regression"
   ]
  },
  {
   "cell_type": "markdown",
   "metadata": {},
   "source": [
    "## 3.3. Decision Tree"
   ]
  },
  {
   "cell_type": "markdown",
   "metadata": {},
   "source": [
    "## 3.4. SVM"
   ]
  },
  {
   "cell_type": "markdown",
   "metadata": {},
   "source": [
    "# Z. Other\n",
    "Additional parts"
   ]
  },
  {
   "cell_type": "markdown",
   "metadata": {},
   "source": [
    "## Z.1. Pickle"
   ]
  },
  {
   "cell_type": "code",
   "execution_count": null,
   "metadata": {},
   "outputs": [],
   "source": [
    "# Save a model into a pickle file.\n",
    "import pickle\n",
    "import os\n",
    "os.chdir(r'.\\saved_models')\n",
    "pickle.dump(svm, open( \"svm.model\", \"wb\" ) )\n",
    "os.chdir('..')"
   ]
  },
  {
   "cell_type": "code",
   "execution_count": null,
   "metadata": {},
   "outputs": [],
   "source": [
    "# Load the model back from the pickle file.\n",
    "import pickle\n",
    "import os\n",
    "os.chdir(r'.\\saved_models')\n",
    "lr = pickle.load(open(\"lr.model\", \"rb\"))\n",
    "nb = pickle.load(open(\"nb.model\", \"rb\"))\n",
    "rf = pickle.load(open(\"rf.model\", \"rb\"))\n",
    "tree = pickle.load(open(\"tree.model\", \"rb\"))\n",
    "svm = pickle.load(open(\"svm.model\", \"rb\"))\n",
    "os.chdir('..')"
   ]
  }
 ],
 "metadata": {
  "hide_input": false,
  "kernelspec": {
   "display_name": "Python 3",
   "language": "python",
   "name": "python3"
  },
  "language_info": {
   "codemirror_mode": {
    "name": "ipython",
    "version": 3
   },
   "file_extension": ".py",
   "mimetype": "text/x-python",
   "name": "python",
   "nbconvert_exporter": "python",
   "pygments_lexer": "ipython3",
   "version": "3.6.7"
  },
  "toc": {
   "base_numbering": 1,
   "nav_menu": {},
   "number_sections": false,
   "sideBar": true,
   "skip_h1_title": false,
   "title_cell": "Table of Contents",
   "title_sidebar": "Contents",
   "toc_cell": false,
   "toc_position": {
    "height": "calc(100% - 180px)",
    "left": "10px",
    "top": "150px",
    "width": "165px"
   },
   "toc_section_display": true,
   "toc_window_display": true
  },
  "varInspector": {
   "cols": {
    "lenName": 16,
    "lenType": 16,
    "lenVar": 40
   },
   "kernels_config": {
    "python": {
     "delete_cmd_postfix": "",
     "delete_cmd_prefix": "del ",
     "library": "var_list.py",
     "varRefreshCmd": "print(var_dic_list())"
    },
    "r": {
     "delete_cmd_postfix": ") ",
     "delete_cmd_prefix": "rm(",
     "library": "var_list.r",
     "varRefreshCmd": "cat(var_dic_list()) "
    }
   },
   "position": {
    "height": "283px",
    "left": "150px",
    "right": "20px",
    "top": "264px",
    "width": "498px"
   },
   "types_to_exclude": [
    "module",
    "function",
    "builtin_function_or_method",
    "instance",
    "_Feature"
   ],
   "window_display": false
  }
 },
 "nbformat": 4,
 "nbformat_minor": 2
}
